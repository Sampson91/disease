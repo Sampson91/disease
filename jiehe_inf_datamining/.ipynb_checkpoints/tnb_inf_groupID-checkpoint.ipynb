{
 "cells": [
  {
   "cell_type": "code",
   "execution_count": 53,
   "metadata": {
    "collapsed": true
   },
   "outputs": [],
   "source": [
    "from sklearn.model_selection import train_test_split\n",
    "from sklearn.tree import DecisionTreeClassifier\n",
    "from sklearn.metrics import classification_report\n",
    "import pandas as pd\n",
    "import numpy as np\n",
    "from sklearn.ensemble import RandomForestClassifier\n",
    "import matplotlib.pyplot as plt\n",
    "from sklearn.preprocessing import LabelEncoder"
   ]
  },
  {
   "cell_type": "code",
   "execution_count": 54,
   "metadata": {
    "collapsed": true
   },
   "outputs": [],
   "source": [
    "name=['vc_tnblx','vc_hzxb','area_type','addrcode','diagnosis_age','disease_id1','week','inf_day','inf_weeek','inf_month','target','group_id']\n",
    "tnb_jiehe_data = pd.read_csv(\"./tnb_jiehe.csv\",encoding='utf-8')"
   ]
  },
  {
   "cell_type": "code",
   "execution_count": 55,
   "metadata": {
    "collapsed": false
   },
   "outputs": [
    {
     "name": "stderr",
     "output_type": "stream",
     "text": [
      "E:\\Users\\wang\\Anaconda2\\lib\\site-packages\\ipykernel\\__main__.py:2: SettingWithCopyWarning: \n",
      "A value is trying to be set on a copy of a slice from a DataFrame.\n",
      "Try using .loc[row_indexer,col_indexer] = value instead\n",
      "\n",
      "See the caveats in the documentation: http://pandas.pydata.org/pandas-docs/stable/indexing.html#indexing-view-versus-copy\n",
      "  from ipykernel import kernelapp as app\n",
      "E:\\Users\\wang\\Anaconda2\\lib\\site-packages\\ipykernel\\__main__.py:3: SettingWithCopyWarning: \n",
      "A value is trying to be set on a copy of a slice from a DataFrame.\n",
      "Try using .loc[row_indexer,col_indexer] = value instead\n",
      "\n",
      "See the caveats in the documentation: http://pandas.pydata.org/pandas-docs/stable/indexing.html#indexing-view-versus-copy\n",
      "  app.launch_new_instance()\n",
      "E:\\Users\\wang\\Anaconda2\\lib\\site-packages\\ipykernel\\__main__.py:4: SettingWithCopyWarning: \n",
      "A value is trying to be set on a copy of a slice from a DataFrame.\n",
      "Try using .loc[row_indexer,col_indexer] = value instead\n",
      "\n",
      "See the caveats in the documentation: http://pandas.pydata.org/pandas-docs/stable/indexing.html#indexing-view-versus-copy\n"
     ]
    },
    {
     "data": {
      "text/html": [
       "<div>\n",
       "<table border=\"1\" class=\"dataframe\">\n",
       "  <thead>\n",
       "    <tr style=\"text-align: right;\">\n",
       "      <th></th>\n",
       "      <th>vc_tnblx</th>\n",
       "      <th>vc_hzxb</th>\n",
       "      <th>area_type</th>\n",
       "      <th>addrcode</th>\n",
       "      <th>diagnosis_age</th>\n",
       "      <th>disease_id1</th>\n",
       "      <th>week</th>\n",
       "      <th>inf_day</th>\n",
       "      <th>inf_weeek</th>\n",
       "      <th>inf_month</th>\n",
       "      <th>target</th>\n",
       "      <th>group_id</th>\n",
       "    </tr>\n",
       "  </thead>\n",
       "  <tbody>\n",
       "    <tr>\n",
       "      <th>0</th>\n",
       "      <td>2</td>\n",
       "      <td>1</td>\n",
       "      <td>1</td>\n",
       "      <td>302</td>\n",
       "      <td>60</td>\n",
       "      <td>130</td>\n",
       "      <td>10</td>\n",
       "      <td>1</td>\n",
       "      <td>1</td>\n",
       "      <td>1</td>\n",
       "      <td>a</td>\n",
       "      <td>29</td>\n",
       "    </tr>\n",
       "  </tbody>\n",
       "</table>\n",
       "</div>"
      ],
      "text/plain": [
       "   vc_tnblx  vc_hzxb  area_type  addrcode  diagnosis_age  disease_id1  week  \\\n",
       "0         2        1          1       302             60          130    10   \n",
       "\n",
       "   inf_day  inf_weeek  inf_month target  group_id  \n",
       "0        1          1          1      a        29  "
      ]
     },
     "execution_count": 55,
     "metadata": {},
     "output_type": "execute_result"
    }
   ],
   "source": [
    "data = tnb_jiehe_data[name]\n",
    "data['addrcode']=data['addrcode']/100\n",
    "data['addrcode']=data['addrcode']%10000\n",
    "data['addrcode'] = data['addrcode'].astype(int)\n",
    "data = data[data['addrcode']<1199]  #删除外省人\n",
    "data.head(1)"
   ]
  },
  {
   "cell_type": "code",
   "execution_count": 56,
   "metadata": {
    "collapsed": false
   },
   "outputs": [
    {
     "data": {
      "text/html": [
       "<div>\n",
       "<table border=\"1\" class=\"dataframe\">\n",
       "  <thead>\n",
       "    <tr style=\"text-align: right;\">\n",
       "      <th></th>\n",
       "      <th>vc_tnblx</th>\n",
       "      <th>vc_hzxb</th>\n",
       "      <th>area_type</th>\n",
       "      <th>addrcode</th>\n",
       "      <th>diagnosis_age</th>\n",
       "      <th>disease_id1</th>\n",
       "      <th>week</th>\n",
       "      <th>inf_day</th>\n",
       "      <th>inf_weeek</th>\n",
       "      <th>inf_month</th>\n",
       "      <th>target</th>\n",
       "    </tr>\n",
       "    <tr>\n",
       "      <th>group_id</th>\n",
       "      <th></th>\n",
       "      <th></th>\n",
       "      <th></th>\n",
       "      <th></th>\n",
       "      <th></th>\n",
       "      <th></th>\n",
       "      <th></th>\n",
       "      <th></th>\n",
       "      <th></th>\n",
       "      <th></th>\n",
       "      <th></th>\n",
       "    </tr>\n",
       "  </thead>\n",
       "  <tbody>\n",
       "    <tr>\n",
       "      <th>3</th>\n",
       "      <td>7</td>\n",
       "      <td>7</td>\n",
       "      <td>7</td>\n",
       "      <td>7</td>\n",
       "      <td>7</td>\n",
       "      <td>7</td>\n",
       "      <td>7</td>\n",
       "      <td>7</td>\n",
       "      <td>7</td>\n",
       "      <td>7</td>\n",
       "      <td>7</td>\n",
       "    </tr>\n",
       "    <tr>\n",
       "      <th>4</th>\n",
       "      <td>24</td>\n",
       "      <td>24</td>\n",
       "      <td>24</td>\n",
       "      <td>24</td>\n",
       "      <td>24</td>\n",
       "      <td>24</td>\n",
       "      <td>24</td>\n",
       "      <td>24</td>\n",
       "      <td>24</td>\n",
       "      <td>24</td>\n",
       "      <td>24</td>\n",
       "    </tr>\n",
       "    <tr>\n",
       "      <th>6</th>\n",
       "      <td>6</td>\n",
       "      <td>6</td>\n",
       "      <td>6</td>\n",
       "      <td>6</td>\n",
       "      <td>6</td>\n",
       "      <td>6</td>\n",
       "      <td>6</td>\n",
       "      <td>6</td>\n",
       "      <td>6</td>\n",
       "      <td>6</td>\n",
       "      <td>6</td>\n",
       "    </tr>\n",
       "    <tr>\n",
       "      <th>7</th>\n",
       "      <td>3</td>\n",
       "      <td>3</td>\n",
       "      <td>3</td>\n",
       "      <td>3</td>\n",
       "      <td>3</td>\n",
       "      <td>3</td>\n",
       "      <td>3</td>\n",
       "      <td>3</td>\n",
       "      <td>3</td>\n",
       "      <td>3</td>\n",
       "      <td>3</td>\n",
       "    </tr>\n",
       "    <tr>\n",
       "      <th>8</th>\n",
       "      <td>152</td>\n",
       "      <td>152</td>\n",
       "      <td>152</td>\n",
       "      <td>152</td>\n",
       "      <td>152</td>\n",
       "      <td>152</td>\n",
       "      <td>152</td>\n",
       "      <td>152</td>\n",
       "      <td>152</td>\n",
       "      <td>152</td>\n",
       "      <td>152</td>\n",
       "    </tr>\n",
       "    <tr>\n",
       "      <th>9</th>\n",
       "      <td>14</td>\n",
       "      <td>14</td>\n",
       "      <td>14</td>\n",
       "      <td>14</td>\n",
       "      <td>14</td>\n",
       "      <td>14</td>\n",
       "      <td>14</td>\n",
       "      <td>14</td>\n",
       "      <td>14</td>\n",
       "      <td>14</td>\n",
       "      <td>14</td>\n",
       "    </tr>\n",
       "    <tr>\n",
       "      <th>16</th>\n",
       "      <td>586</td>\n",
       "      <td>586</td>\n",
       "      <td>586</td>\n",
       "      <td>586</td>\n",
       "      <td>586</td>\n",
       "      <td>586</td>\n",
       "      <td>586</td>\n",
       "      <td>586</td>\n",
       "      <td>586</td>\n",
       "      <td>586</td>\n",
       "      <td>586</td>\n",
       "    </tr>\n",
       "    <tr>\n",
       "      <th>17</th>\n",
       "      <td>221</td>\n",
       "      <td>221</td>\n",
       "      <td>221</td>\n",
       "      <td>221</td>\n",
       "      <td>221</td>\n",
       "      <td>221</td>\n",
       "      <td>221</td>\n",
       "      <td>221</td>\n",
       "      <td>221</td>\n",
       "      <td>221</td>\n",
       "      <td>221</td>\n",
       "    </tr>\n",
       "    <tr>\n",
       "      <th>18</th>\n",
       "      <td>4849</td>\n",
       "      <td>4849</td>\n",
       "      <td>4849</td>\n",
       "      <td>4849</td>\n",
       "      <td>4849</td>\n",
       "      <td>4849</td>\n",
       "      <td>4849</td>\n",
       "      <td>4849</td>\n",
       "      <td>4849</td>\n",
       "      <td>4849</td>\n",
       "      <td>4848</td>\n",
       "    </tr>\n",
       "    <tr>\n",
       "      <th>19</th>\n",
       "      <td>2</td>\n",
       "      <td>2</td>\n",
       "      <td>2</td>\n",
       "      <td>2</td>\n",
       "      <td>2</td>\n",
       "      <td>2</td>\n",
       "      <td>2</td>\n",
       "      <td>2</td>\n",
       "      <td>2</td>\n",
       "      <td>2</td>\n",
       "      <td>2</td>\n",
       "    </tr>\n",
       "    <tr>\n",
       "      <th>20</th>\n",
       "      <td>14</td>\n",
       "      <td>14</td>\n",
       "      <td>14</td>\n",
       "      <td>14</td>\n",
       "      <td>14</td>\n",
       "      <td>14</td>\n",
       "      <td>14</td>\n",
       "      <td>14</td>\n",
       "      <td>14</td>\n",
       "      <td>14</td>\n",
       "      <td>14</td>\n",
       "    </tr>\n",
       "    <tr>\n",
       "      <th>21</th>\n",
       "      <td>4</td>\n",
       "      <td>4</td>\n",
       "      <td>4</td>\n",
       "      <td>4</td>\n",
       "      <td>4</td>\n",
       "      <td>4</td>\n",
       "      <td>4</td>\n",
       "      <td>4</td>\n",
       "      <td>4</td>\n",
       "      <td>4</td>\n",
       "      <td>4</td>\n",
       "    </tr>\n",
       "    <tr>\n",
       "      <th>22</th>\n",
       "      <td>90</td>\n",
       "      <td>90</td>\n",
       "      <td>90</td>\n",
       "      <td>90</td>\n",
       "      <td>90</td>\n",
       "      <td>90</td>\n",
       "      <td>90</td>\n",
       "      <td>90</td>\n",
       "      <td>90</td>\n",
       "      <td>90</td>\n",
       "      <td>90</td>\n",
       "    </tr>\n",
       "    <tr>\n",
       "      <th>23</th>\n",
       "      <td>1039</td>\n",
       "      <td>1039</td>\n",
       "      <td>1039</td>\n",
       "      <td>1039</td>\n",
       "      <td>1039</td>\n",
       "      <td>1039</td>\n",
       "      <td>1039</td>\n",
       "      <td>1039</td>\n",
       "      <td>1039</td>\n",
       "      <td>1039</td>\n",
       "      <td>1039</td>\n",
       "    </tr>\n",
       "    <tr>\n",
       "      <th>24</th>\n",
       "      <td>854</td>\n",
       "      <td>854</td>\n",
       "      <td>854</td>\n",
       "      <td>854</td>\n",
       "      <td>854</td>\n",
       "      <td>854</td>\n",
       "      <td>854</td>\n",
       "      <td>854</td>\n",
       "      <td>854</td>\n",
       "      <td>854</td>\n",
       "      <td>854</td>\n",
       "    </tr>\n",
       "    <tr>\n",
       "      <th>28</th>\n",
       "      <td>381</td>\n",
       "      <td>381</td>\n",
       "      <td>381</td>\n",
       "      <td>381</td>\n",
       "      <td>381</td>\n",
       "      <td>381</td>\n",
       "      <td>381</td>\n",
       "      <td>381</td>\n",
       "      <td>381</td>\n",
       "      <td>381</td>\n",
       "      <td>381</td>\n",
       "    </tr>\n",
       "    <tr>\n",
       "      <th>29</th>\n",
       "      <td>242</td>\n",
       "      <td>242</td>\n",
       "      <td>242</td>\n",
       "      <td>242</td>\n",
       "      <td>242</td>\n",
       "      <td>242</td>\n",
       "      <td>242</td>\n",
       "      <td>242</td>\n",
       "      <td>242</td>\n",
       "      <td>242</td>\n",
       "      <td>242</td>\n",
       "    </tr>\n",
       "  </tbody>\n",
       "</table>\n",
       "</div>"
      ],
      "text/plain": [
       "          vc_tnblx  vc_hzxb  area_type  addrcode  diagnosis_age  disease_id1  \\\n",
       "group_id                                                                       \n",
       "3                7        7          7         7              7            7   \n",
       "4               24       24         24        24             24           24   \n",
       "6                6        6          6         6              6            6   \n",
       "7                3        3          3         3              3            3   \n",
       "8              152      152        152       152            152          152   \n",
       "9               14       14         14        14             14           14   \n",
       "16             586      586        586       586            586          586   \n",
       "17             221      221        221       221            221          221   \n",
       "18            4849     4849       4849      4849           4849         4849   \n",
       "19               2        2          2         2              2            2   \n",
       "20              14       14         14        14             14           14   \n",
       "21               4        4          4         4              4            4   \n",
       "22              90       90         90        90             90           90   \n",
       "23            1039     1039       1039      1039           1039         1039   \n",
       "24             854      854        854       854            854          854   \n",
       "28             381      381        381       381            381          381   \n",
       "29             242      242        242       242            242          242   \n",
       "\n",
       "          week  inf_day  inf_weeek  inf_month  target  \n",
       "group_id                                               \n",
       "3            7        7          7          7       7  \n",
       "4           24       24         24         24      24  \n",
       "6            6        6          6          6       6  \n",
       "7            3        3          3          3       3  \n",
       "8          152      152        152        152     152  \n",
       "9           14       14         14         14      14  \n",
       "16         586      586        586        586     586  \n",
       "17         221      221        221        221     221  \n",
       "18        4849     4849       4849       4849    4848  \n",
       "19           2        2          2          2       2  \n",
       "20          14       14         14         14      14  \n",
       "21           4        4          4          4       4  \n",
       "22          90       90         90         90      90  \n",
       "23        1039     1039       1039       1039    1039  \n",
       "24         854      854        854        854     854  \n",
       "28         381      381        381        381     381  \n",
       "29         242      242        242        242     242  "
      ]
     },
     "execution_count": 56,
     "metadata": {},
     "output_type": "execute_result"
    }
   ],
   "source": [
    "data.groupby('group_id').count()"
   ]
  },
  {
   "cell_type": "code",
   "execution_count": 65,
   "metadata": {
    "collapsed": false
   },
   "outputs": [
    {
     "data": {
      "image/png": "[encoded data removed]",
      "text/plain": [
       "<matplotlib.figure.Figure at 0xc5e1fd0>"
      ]
     },
     "metadata": {},
     "output_type": "display_data"
    }
   ],
   "source": [
    "group_id=data.groupby('group_id').count()\n",
    "plt.plot(group_id)\n",
    "plt.show()"
   ]
  },
  {
   "cell_type": "code",
   "execution_count": 10,
   "metadata": {
    "collapsed": false
   },
   "outputs": [],
   "source": [
    "class_le = LabelEncoder()\n",
    "data['target']=class_le.fit_transform(data['target'])"
   ]
  },
  {
   "cell_type": "code",
   "execution_count": 29,
   "metadata": {
    "collapsed": false
   },
   "outputs": [
    {
     "data": {
      "text/plain": [
       "0.62608012568735272"
      ]
     },
     "execution_count": 29,
     "metadata": {},
     "output_type": "execute_result"
    }
   ],
   "source": [
    "X_train,X_test,y_train,y_test = train_test_split(data[name[0:11]],data[name[11]],test_size=0.4,random_state=42)\n",
    "clf = DecisionTreeClassifier(max_depth=6,min_samples_split=6)\n",
    "clf.fit(X_train,y_train)\n",
    "clf.score(X_train,y_train)"
   ]
  },
  {
   "cell_type": "code",
   "execution_count": 30,
   "metadata": {
    "collapsed": false
   },
   "outputs": [
    {
     "data": {
      "text/plain": [
       "0.59216725559481742"
      ]
     },
     "execution_count": 30,
     "metadata": {},
     "output_type": "execute_result"
    }
   ],
   "source": [
    "clf.score(X_test,y_test)"
   ]
  },
  {
   "cell_type": "code",
   "execution_count": 31,
   "metadata": {
    "collapsed": false
   },
   "outputs": [
    {
     "name": "stdout",
     "output_type": "stream",
     "text": [
      "             precision    recall  f1-score   support\n",
      "\n",
      "          3       0.00      0.00      0.00         4\n",
      "          4       0.00      0.00      0.00        10\n",
      "          6       0.00      0.00      0.00         2\n",
      "          7       0.00      0.00      0.00         2\n",
      "          8       1.00      0.01      0.03        67\n",
      "          9       0.00      0.00      0.00         4\n",
      "         16       0.43      0.08      0.14       237\n",
      "         17       0.63      0.56      0.59        90\n",
      "         18       0.63      0.92      0.75      1934\n",
      "         19       0.00      0.00      0.00         1\n",
      "         20       0.00      0.00      0.00         7\n",
      "         21       0.00      0.00      0.00         2\n",
      "         22       0.00      0.00      0.00        43\n",
      "         23       0.45      0.18      0.25       394\n",
      "         24       0.39      0.14      0.20       355\n",
      "         28       0.26      0.22      0.24       159\n",
      "         29       0.00      0.00      0.00        85\n",
      "\n",
      "avg / total       0.53      0.59      0.51      3396\n",
      "\n"
     ]
    }
   ],
   "source": [
    "tr_predict = clf.predict(X_test)\n",
    "print(classification_report(y_test,tr_predict))"
   ]
  },
  {
   "cell_type": "code",
   "execution_count": 32,
   "metadata": {
    "collapsed": false
   },
   "outputs": [
    {
     "data": {
      "text/plain": [
       "0.99764336213668503"
      ]
     },
     "execution_count": 32,
     "metadata": {},
     "output_type": "execute_result"
    }
   ],
   "source": [
    "forest = RandomForestClassifier(n_estimators=3000,random_state=42,n_jobs=3)\n",
    "forest.fit(X_train,y_train)\n",
    "forest.score(X_train,y_train)"
   ]
  },
  {
   "cell_type": "code",
   "execution_count": 33,
   "metadata": {
    "collapsed": false
   },
   "outputs": [
    {
     "data": {
      "text/plain": [
       "0.65459363957597172"
      ]
     },
     "execution_count": 33,
     "metadata": {},
     "output_type": "execute_result"
    }
   ],
   "source": [
    "forest.score(X_test,y_test)"
   ]
  },
  {
   "cell_type": "code",
   "execution_count": 34,
   "metadata": {
    "collapsed": false
   },
   "outputs": [
    {
     "name": "stdout",
     "output_type": "stream",
     "text": [
      "             precision    recall  f1-score   support\n",
      "\n",
      "          3       0.00      0.00      0.00         4\n",
      "          4       0.00      0.00      0.00        10\n",
      "          6       0.00      0.00      0.00         2\n",
      "          7       0.00      0.00      0.00         2\n",
      "          8       1.00      0.01      0.03        67\n",
      "          9       0.00      0.00      0.00         4\n",
      "         16       0.43      0.08      0.14       237\n",
      "         17       0.63      0.56      0.59        90\n",
      "         18       0.63      0.92      0.75      1934\n",
      "         19       0.00      0.00      0.00         1\n",
      "         20       0.00      0.00      0.00         7\n",
      "         21       0.00      0.00      0.00         2\n",
      "         22       0.00      0.00      0.00        43\n",
      "         23       0.45      0.18      0.25       394\n",
      "         24       0.39      0.14      0.20       355\n",
      "         28       0.26      0.22      0.24       159\n",
      "         29       0.00      0.00      0.00        85\n",
      "\n",
      "avg / total       0.53      0.59      0.51      3396\n",
      "\n"
     ]
    }
   ],
   "source": [
    "tr_predict = clf.predict(X_test)\n",
    "print(classification_report(y_test,tr_predict))"
   ]
  },
  {
   "cell_type": "code",
   "execution_count": 35,
   "metadata": {
    "collapsed": false
   },
   "outputs": [
    {
     "name": "stdout",
     "output_type": "stream",
     "text": [
      " 1 vc_tnblx                       0.230596\n",
      " 2 vc_hzxb                        0.190265\n",
      " 3 area_type                      0.189683\n",
      " 4 addrcode                       0.137160\n",
      " 5 diagnosis_age                  0.064251\n",
      " 6 disease_id1                    0.052212\n",
      " 7 week                           0.042145\n",
      " 8 inf_day                        0.028581\n",
      " 9 inf_weeek                      0.025440\n",
      "10 inf_month                      0.025133\n",
      "11 target                         0.014533\n"
     ]
    }
   ],
   "source": [
    "feat_labels = data.columns[:-1]\n",
    "importance = forest.feature_importances_\n",
    "indices = np.argsort(importance)[::-1]\n",
    "for f in range(X_train.shape[1]):\n",
    "    print(\"%2d %-*s %f\"%(f+1,30,feat_labels[f],importance[indices[f]]))"
   ]
  },
  {
   "cell_type": "code",
   "execution_count": 37,
   "metadata": {
    "collapsed": false
   },
   "outputs": [
    {
     "data": {
      "image/png": "[encoded data removed]",
      "text/plain": [
       "<matplotlib.figure.Figure at 0x12fe60940>"
      ]
     },
     "metadata": {},
     "output_type": "display_data"
    }
   ],
   "source": [
    "plt.title(\"feature importance\")\n",
    "plt.bar(range(X_train.shape[1]),importance[indices],color='lightblue',align='center')\n",
    "plt.xticks(range(X_train.shape[1]),feat_labels,rotation=90)\n",
    "plt.xlim([-1,X_train.shape[1]])\n",
    "plt.tight_layout()\n",
    "plt.show()"
   ]
  },
  {
   "cell_type": "code",
   "execution_count": null,
   "metadata": {
    "collapsed": true
   },
   "outputs": [],
   "source": []
  }
 ],
 "metadata": {
  "kernelspec": {
   "display_name": "Python 2",
   "language": "python",
   "name": "python2"
  },
  "language_info": {
   "codemirror_mode": {
    "name": "ipython",
    "version": 2
   },
   "file_extension": ".py",
   "mimetype": "text/x-python",
   "name": "python",
   "nbconvert_exporter": "python",
   "pygments_lexer": "ipython2",
   "version": "2.7.13"
  }
 },
 "nbformat": 4,
 "nbformat_minor": 2
}
