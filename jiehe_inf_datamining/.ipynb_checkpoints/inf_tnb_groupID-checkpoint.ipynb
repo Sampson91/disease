{
 "cells": [
  {
   "cell_type": "code",
   "execution_count": 1,
   "metadata": {
    "collapsed": true
   },
   "outputs": [],
   "source": [
    "from sklearn.model_selection import train_test_split\n",
    "from sklearn.tree import DecisionTreeClassifier\n",
    "from sklearn.metrics import classification_report\n",
    "import pandas as pd\n",
    "import numpy as np\n",
    "from sklearn.ensemble import RandomForestClassifier\n",
    "import matplotlib.pyplot as plt\n",
    "from sklearn.preprocessing import LabelEncoder"
   ]
  },
  {
   "cell_type": "code",
   "execution_count": 10,
   "metadata": {
    "collapsed": false
   },
   "outputs": [
    {
     "name": "stderr",
     "output_type": "stream",
     "text": [
      "E:\\Users\\wang\\Anaconda2\\lib\\site-packages\\ipykernel\\__main__.py:4: SettingWithCopyWarning: \n",
      "A value is trying to be set on a copy of a slice from a DataFrame.\n",
      "Try using .loc[row_indexer,col_indexer] = value instead\n",
      "\n",
      "See the caveats in the documentation: http://pandas.pydata.org/pandas-docs/stable/indexing.html#indexing-view-versus-copy\n",
      "E:\\Users\\wang\\Anaconda2\\lib\\site-packages\\ipykernel\\__main__.py:5: SettingWithCopyWarning: \n",
      "A value is trying to be set on a copy of a slice from a DataFrame.\n",
      "Try using .loc[row_indexer,col_indexer] = value instead\n",
      "\n",
      "See the caveats in the documentation: http://pandas.pydata.org/pandas-docs/stable/indexing.html#indexing-view-versus-copy\n",
      "E:\\Users\\wang\\Anaconda2\\lib\\site-packages\\ipykernel\\__main__.py:6: SettingWithCopyWarning: \n",
      "A value is trying to be set on a copy of a slice from a DataFrame.\n",
      "Try using .loc[row_indexer,col_indexer] = value instead\n",
      "\n",
      "See the caveats in the documentation: http://pandas.pydata.org/pandas-docs/stable/indexing.html#indexing-view-versus-copy\n"
     ]
    },
    {
     "data": {
      "text/html": [
       "<div>\n",
       "<table border=\"1\" class=\"dataframe\">\n",
       "  <thead>\n",
       "    <tr style=\"text-align: right;\">\n",
       "      <th></th>\n",
       "      <th>vc_tnblx</th>\n",
       "      <th>vc_hzxb</th>\n",
       "      <th>area_type</th>\n",
       "      <th>addrcode</th>\n",
       "      <th>diagnosis_age</th>\n",
       "      <th>disease_id1</th>\n",
       "      <th>week</th>\n",
       "      <th>inf_day</th>\n",
       "      <th>inf_weeek</th>\n",
       "      <th>inf_month</th>\n",
       "      <th>target</th>\n",
       "      <th>group_id</th>\n",
       "    </tr>\n",
       "  </thead>\n",
       "  <tbody>\n",
       "    <tr>\n",
       "      <th>0</th>\n",
       "      <td>3</td>\n",
       "      <td>2</td>\n",
       "      <td>1</td>\n",
       "      <td>109</td>\n",
       "      <td>34</td>\n",
       "      <td>131</td>\n",
       "      <td>124</td>\n",
       "      <td>16</td>\n",
       "      <td>3</td>\n",
       "      <td>1</td>\n",
       "      <td>b</td>\n",
       "      <td>16</td>\n",
       "    </tr>\n",
       "  </tbody>\n",
       "</table>\n",
       "</div>"
      ],
      "text/plain": [
       "   vc_tnblx  vc_hzxb  area_type  addrcode  diagnosis_age  disease_id1  week  \\\n",
       "0         3        2          1       109             34          131   124   \n",
       "\n",
       "   inf_day  inf_weeek  inf_month target  group_id  \n",
       "0       16          3          1      b        16  "
      ]
     },
     "execution_count": 10,
     "metadata": {},
     "output_type": "execute_result"
    }
   ],
   "source": [
    "name=['vc_tnblx','vc_hzxb','area_type','addrcode','diagnosis_age','disease_id1','week','inf_day','inf_weeek','inf_month','target','group_id']\n",
    "tnb_jiehe_data = pd.read_csv(\"./jiehe_tnb.csv\",encoding='utf-8')\n",
    "data = tnb_jiehe_data[name]\n",
    "data['addrcode']=data['addrcode']/100\n",
    "data['addrcode']=data['addrcode']%10000\n",
    "data['addrcode'] = data['addrcode'].astype(int)\n",
    "data = data[data['addrcode']<1199]  #删除外省人\n",
    "data.head(1)"
   ]
  },
  {
   "cell_type": "code",
   "execution_count": 11,
   "metadata": {
    "collapsed": false
   },
   "outputs": [
    {
     "data": {
      "text/html": [
       "<div>\n",
       "<table border=\"1\" class=\"dataframe\">\n",
       "  <thead>\n",
       "    <tr style=\"text-align: right;\">\n",
       "      <th></th>\n",
       "      <th>vc_tnblx</th>\n",
       "      <th>vc_hzxb</th>\n",
       "      <th>area_type</th>\n",
       "      <th>addrcode</th>\n",
       "      <th>diagnosis_age</th>\n",
       "      <th>disease_id1</th>\n",
       "      <th>week</th>\n",
       "      <th>inf_day</th>\n",
       "      <th>inf_weeek</th>\n",
       "      <th>inf_month</th>\n",
       "      <th>target</th>\n",
       "    </tr>\n",
       "    <tr>\n",
       "      <th>group_id</th>\n",
       "      <th></th>\n",
       "      <th></th>\n",
       "      <th></th>\n",
       "      <th></th>\n",
       "      <th></th>\n",
       "      <th></th>\n",
       "      <th></th>\n",
       "      <th></th>\n",
       "      <th></th>\n",
       "      <th></th>\n",
       "      <th></th>\n",
       "    </tr>\n",
       "  </thead>\n",
       "  <tbody>\n",
       "    <tr>\n",
       "      <th>3</th>\n",
       "      <td>9</td>\n",
       "      <td>9</td>\n",
       "      <td>9</td>\n",
       "      <td>9</td>\n",
       "      <td>9</td>\n",
       "      <td>9</td>\n",
       "      <td>9</td>\n",
       "      <td>9</td>\n",
       "      <td>9</td>\n",
       "      <td>9</td>\n",
       "      <td>9</td>\n",
       "    </tr>\n",
       "    <tr>\n",
       "      <th>4</th>\n",
       "      <td>17</td>\n",
       "      <td>17</td>\n",
       "      <td>17</td>\n",
       "      <td>17</td>\n",
       "      <td>17</td>\n",
       "      <td>17</td>\n",
       "      <td>17</td>\n",
       "      <td>17</td>\n",
       "      <td>17</td>\n",
       "      <td>17</td>\n",
       "      <td>17</td>\n",
       "    </tr>\n",
       "    <tr>\n",
       "      <th>6</th>\n",
       "      <td>18</td>\n",
       "      <td>18</td>\n",
       "      <td>18</td>\n",
       "      <td>18</td>\n",
       "      <td>18</td>\n",
       "      <td>18</td>\n",
       "      <td>18</td>\n",
       "      <td>18</td>\n",
       "      <td>18</td>\n",
       "      <td>18</td>\n",
       "      <td>18</td>\n",
       "    </tr>\n",
       "    <tr>\n",
       "      <th>7</th>\n",
       "      <td>5</td>\n",
       "      <td>5</td>\n",
       "      <td>5</td>\n",
       "      <td>5</td>\n",
       "      <td>5</td>\n",
       "      <td>5</td>\n",
       "      <td>5</td>\n",
       "      <td>5</td>\n",
       "      <td>5</td>\n",
       "      <td>5</td>\n",
       "      <td>5</td>\n",
       "    </tr>\n",
       "    <tr>\n",
       "      <th>8</th>\n",
       "      <td>143</td>\n",
       "      <td>143</td>\n",
       "      <td>143</td>\n",
       "      <td>143</td>\n",
       "      <td>143</td>\n",
       "      <td>143</td>\n",
       "      <td>143</td>\n",
       "      <td>143</td>\n",
       "      <td>143</td>\n",
       "      <td>143</td>\n",
       "      <td>143</td>\n",
       "    </tr>\n",
       "    <tr>\n",
       "      <th>9</th>\n",
       "      <td>12</td>\n",
       "      <td>12</td>\n",
       "      <td>12</td>\n",
       "      <td>12</td>\n",
       "      <td>12</td>\n",
       "      <td>12</td>\n",
       "      <td>12</td>\n",
       "      <td>12</td>\n",
       "      <td>12</td>\n",
       "      <td>12</td>\n",
       "      <td>12</td>\n",
       "    </tr>\n",
       "    <tr>\n",
       "      <th>16</th>\n",
       "      <td>470</td>\n",
       "      <td>470</td>\n",
       "      <td>470</td>\n",
       "      <td>470</td>\n",
       "      <td>470</td>\n",
       "      <td>470</td>\n",
       "      <td>470</td>\n",
       "      <td>470</td>\n",
       "      <td>470</td>\n",
       "      <td>470</td>\n",
       "      <td>470</td>\n",
       "    </tr>\n",
       "    <tr>\n",
       "      <th>17</th>\n",
       "      <td>68</td>\n",
       "      <td>68</td>\n",
       "      <td>68</td>\n",
       "      <td>68</td>\n",
       "      <td>68</td>\n",
       "      <td>68</td>\n",
       "      <td>68</td>\n",
       "      <td>68</td>\n",
       "      <td>68</td>\n",
       "      <td>68</td>\n",
       "      <td>68</td>\n",
       "    </tr>\n",
       "    <tr>\n",
       "      <th>18</th>\n",
       "      <td>2909</td>\n",
       "      <td>2909</td>\n",
       "      <td>2909</td>\n",
       "      <td>2909</td>\n",
       "      <td>2909</td>\n",
       "      <td>2909</td>\n",
       "      <td>2909</td>\n",
       "      <td>2909</td>\n",
       "      <td>2909</td>\n",
       "      <td>2909</td>\n",
       "      <td>2909</td>\n",
       "    </tr>\n",
       "    <tr>\n",
       "      <th>20</th>\n",
       "      <td>17</td>\n",
       "      <td>17</td>\n",
       "      <td>17</td>\n",
       "      <td>17</td>\n",
       "      <td>17</td>\n",
       "      <td>17</td>\n",
       "      <td>17</td>\n",
       "      <td>17</td>\n",
       "      <td>17</td>\n",
       "      <td>17</td>\n",
       "      <td>17</td>\n",
       "    </tr>\n",
       "    <tr>\n",
       "      <th>21</th>\n",
       "      <td>2</td>\n",
       "      <td>2</td>\n",
       "      <td>2</td>\n",
       "      <td>2</td>\n",
       "      <td>2</td>\n",
       "      <td>2</td>\n",
       "      <td>2</td>\n",
       "      <td>2</td>\n",
       "      <td>2</td>\n",
       "      <td>2</td>\n",
       "      <td>2</td>\n",
       "    </tr>\n",
       "    <tr>\n",
       "      <th>22</th>\n",
       "      <td>88</td>\n",
       "      <td>88</td>\n",
       "      <td>88</td>\n",
       "      <td>88</td>\n",
       "      <td>88</td>\n",
       "      <td>88</td>\n",
       "      <td>88</td>\n",
       "      <td>88</td>\n",
       "      <td>88</td>\n",
       "      <td>88</td>\n",
       "      <td>88</td>\n",
       "    </tr>\n",
       "    <tr>\n",
       "      <th>23</th>\n",
       "      <td>491</td>\n",
       "      <td>491</td>\n",
       "      <td>491</td>\n",
       "      <td>491</td>\n",
       "      <td>491</td>\n",
       "      <td>491</td>\n",
       "      <td>491</td>\n",
       "      <td>491</td>\n",
       "      <td>491</td>\n",
       "      <td>491</td>\n",
       "      <td>491</td>\n",
       "    </tr>\n",
       "    <tr>\n",
       "      <th>24</th>\n",
       "      <td>453</td>\n",
       "      <td>453</td>\n",
       "      <td>453</td>\n",
       "      <td>453</td>\n",
       "      <td>453</td>\n",
       "      <td>453</td>\n",
       "      <td>453</td>\n",
       "      <td>453</td>\n",
       "      <td>453</td>\n",
       "      <td>453</td>\n",
       "      <td>453</td>\n",
       "    </tr>\n",
       "    <tr>\n",
       "      <th>28</th>\n",
       "      <td>189</td>\n",
       "      <td>189</td>\n",
       "      <td>189</td>\n",
       "      <td>189</td>\n",
       "      <td>189</td>\n",
       "      <td>189</td>\n",
       "      <td>189</td>\n",
       "      <td>189</td>\n",
       "      <td>189</td>\n",
       "      <td>189</td>\n",
       "      <td>189</td>\n",
       "    </tr>\n",
       "    <tr>\n",
       "      <th>29</th>\n",
       "      <td>208</td>\n",
       "      <td>208</td>\n",
       "      <td>208</td>\n",
       "      <td>208</td>\n",
       "      <td>208</td>\n",
       "      <td>208</td>\n",
       "      <td>208</td>\n",
       "      <td>208</td>\n",
       "      <td>208</td>\n",
       "      <td>208</td>\n",
       "      <td>208</td>\n",
       "    </tr>\n",
       "  </tbody>\n",
       "</table>\n",
       "</div>"
      ],
      "text/plain": [
       "          vc_tnblx  vc_hzxb  area_type  addrcode  diagnosis_age  disease_id1  \\\n",
       "group_id                                                                       \n",
       "3                9        9          9         9              9            9   \n",
       "4               17       17         17        17             17           17   \n",
       "6               18       18         18        18             18           18   \n",
       "7                5        5          5         5              5            5   \n",
       "8              143      143        143       143            143          143   \n",
       "9               12       12         12        12             12           12   \n",
       "16             470      470        470       470            470          470   \n",
       "17              68       68         68        68             68           68   \n",
       "18            2909     2909       2909      2909           2909         2909   \n",
       "20              17       17         17        17             17           17   \n",
       "21               2        2          2         2              2            2   \n",
       "22              88       88         88        88             88           88   \n",
       "23             491      491        491       491            491          491   \n",
       "24             453      453        453       453            453          453   \n",
       "28             189      189        189       189            189          189   \n",
       "29             208      208        208       208            208          208   \n",
       "\n",
       "          week  inf_day  inf_weeek  inf_month  target  \n",
       "group_id                                               \n",
       "3            9        9          9          9       9  \n",
       "4           17       17         17         17      17  \n",
       "6           18       18         18         18      18  \n",
       "7            5        5          5          5       5  \n",
       "8          143      143        143        143     143  \n",
       "9           12       12         12         12      12  \n",
       "16         470      470        470        470     470  \n",
       "17          68       68         68         68      68  \n",
       "18        2909     2909       2909       2909    2909  \n",
       "20          17       17         17         17      17  \n",
       "21           2        2          2          2       2  \n",
       "22          88       88         88         88      88  \n",
       "23         491      491        491        491     491  \n",
       "24         453      453        453        453     453  \n",
       "28         189      189        189        189     189  \n",
       "29         208      208        208        208     208  "
      ]
     },
     "execution_count": 11,
     "metadata": {},
     "output_type": "execute_result"
    }
   ],
   "source": [
    "data.groupby('group_id').count()"
   ]
  },
  {
   "cell_type": "code",
   "execution_count": 12,
   "metadata": {
    "collapsed": false
   },
   "outputs": [
    {
     "data": {
      "image/png": "[encoded data removed]",
      "text/plain": [
       "<matplotlib.figure.Figure at 0xc491048>"
      ]
     },
     "metadata": {},
     "output_type": "display_data"
    }
   ],
   "source": [
    "group_id=data.groupby('group_id').count()\n",
    "plt.plot(group_id)\n",
    "plt.show()"
   ]
  },
  {
   "cell_type": "code",
   "execution_count": 13,
   "metadata": {
    "collapsed": true
   },
   "outputs": [],
   "source": [
    "class_le = LabelEncoder()\n",
    "data['target']=class_le.fit_transform(data['target'])"
   ]
  },
  {
   "cell_type": "code",
   "execution_count": 14,
   "metadata": {
    "collapsed": false
   },
   "outputs": [
    {
     "data": {
      "text/plain": [
       "0.61850277868584502"
      ]
     },
     "execution_count": 14,
     "metadata": {},
     "output_type": "execute_result"
    }
   ],
   "source": [
    "X_train,X_test,y_train,y_test = train_test_split(data[name[0:11]],data[name[11]],test_size=0.4,random_state=42)\n",
    "clf = DecisionTreeClassifier(max_depth=6,min_samples_split=6)\n",
    "clf.fit(X_train,y_train)\n",
    "clf.score(X_train,y_train)"
   ]
  },
  {
   "cell_type": "code",
   "execution_count": 15,
   "metadata": {
    "collapsed": false
   },
   "outputs": [
    {
     "data": {
      "text/plain": [
       "0.56960784313725488"
      ]
     },
     "execution_count": 15,
     "metadata": {},
     "output_type": "execute_result"
    }
   ],
   "source": [
    "clf.score(X_test,y_test)"
   ]
  },
  {
   "cell_type": "code",
   "execution_count": 16,
   "metadata": {
    "collapsed": false
   },
   "outputs": [
    {
     "name": "stdout",
     "output_type": "stream",
     "text": [
      "             precision    recall  f1-score   support\n",
      "\n",
      "          3       0.00      0.00      0.00         5\n",
      "          4       0.00      0.00      0.00         4\n",
      "          6       0.00      0.00      0.00         8\n",
      "          7       0.00      0.00      0.00         3\n",
      "          8       0.29      0.09      0.14        56\n",
      "          9       0.00      0.00      0.00         5\n",
      "         16       0.19      0.15      0.17       195\n",
      "         17       0.00      0.00      0.00        37\n",
      "         18       0.64      0.91      0.75      1164\n",
      "         20       0.00      0.00      0.00         2\n",
      "         21       0.00      0.00      0.00         1\n",
      "         22       0.00      0.00      0.00        40\n",
      "         23       0.48      0.21      0.29       196\n",
      "         24       0.24      0.08      0.12       177\n",
      "         28       0.22      0.23      0.23        70\n",
      "         29       0.00      0.00      0.00        77\n",
      "\n",
      "avg / total       0.47      0.57      0.49      2040\n",
      "\n"
     ]
    },
    {
     "name": "stderr",
     "output_type": "stream",
     "text": [
      "E:\\Users\\wang\\Anaconda2\\lib\\site-packages\\sklearn\\metrics\\classification.py:1113: UndefinedMetricWarning: Precision and F-score are ill-defined and being set to 0.0 in labels with no predicted samples.\n",
      "  'precision', 'predicted', average, warn_for)\n"
     ]
    }
   ],
   "source": [
    "tr_predict = clf.predict(X_test)\n",
    "print(classification_report(y_test,tr_predict))"
   ]
  },
  {
   "cell_type": "code",
   "execution_count": 17,
   "metadata": {
    "collapsed": false
   },
   "outputs": [
    {
     "data": {
      "text/plain": [
       "0.99967309578293562"
      ]
     },
     "execution_count": 17,
     "metadata": {},
     "output_type": "execute_result"
    }
   ],
   "source": [
    "forest = RandomForestClassifier(n_estimators=3000,random_state=42,n_jobs=3)\n",
    "forest.fit(X_train,y_train)\n",
    "forest.score(X_train,y_train)"
   ]
  },
  {
   "cell_type": "code",
   "execution_count": 18,
   "metadata": {
    "collapsed": false
   },
   "outputs": [
    {
     "data": {
      "text/plain": [
       "0.62990196078431371"
      ]
     },
     "execution_count": 18,
     "metadata": {},
     "output_type": "execute_result"
    }
   ],
   "source": [
    "forest.score(X_test,y_test)"
   ]
  },
  {
   "cell_type": "code",
   "execution_count": 19,
   "metadata": {
    "collapsed": false
   },
   "outputs": [
    {
     "name": "stdout",
     "output_type": "stream",
     "text": [
      "             precision    recall  f1-score   support\n",
      "\n",
      "          3       0.00      0.00      0.00         5\n",
      "          4       0.00      0.00      0.00         4\n",
      "          6       0.00      0.00      0.00         8\n",
      "          7       0.00      0.00      0.00         3\n",
      "          8       0.29      0.09      0.14        56\n",
      "          9       0.00      0.00      0.00         5\n",
      "         16       0.19      0.15      0.17       195\n",
      "         17       0.00      0.00      0.00        37\n",
      "         18       0.64      0.91      0.75      1164\n",
      "         20       0.00      0.00      0.00         2\n",
      "         21       0.00      0.00      0.00         1\n",
      "         22       0.00      0.00      0.00        40\n",
      "         23       0.48      0.21      0.29       196\n",
      "         24       0.24      0.08      0.12       177\n",
      "         28       0.22      0.23      0.23        70\n",
      "         29       0.00      0.00      0.00        77\n",
      "\n",
      "avg / total       0.47      0.57      0.49      2040\n",
      "\n"
     ]
    }
   ],
   "source": [
    "tr_predict = clf.predict(X_test)\n",
    "print(classification_report(y_test,tr_predict))"
   ]
  },
  {
   "cell_type": "code",
   "execution_count": 20,
   "metadata": {
    "collapsed": false
   },
   "outputs": [
    {
     "name": "stdout",
     "output_type": "stream",
     "text": [
      " 1 vc_tnblx                       0.206005\n",
      " 2 vc_hzxb                        0.199831\n",
      " 3 area_type                      0.174551\n",
      " 4 addrcode                       0.157763\n",
      " 5 diagnosis_age                  0.085919\n",
      " 6 disease_id1                    0.041768\n",
      " 7 week                           0.037374\n",
      " 8 inf_day                        0.030931\n",
      " 9 inf_weeek                      0.026050\n",
      "10 inf_month                      0.026047\n",
      "11 target                         0.013760\n"
     ]
    }
   ],
   "source": [
    "feat_labels = data.columns[:-1]\n",
    "importance = forest.feature_importances_\n",
    "indices = np.argsort(importance)[::-1]\n",
    "for f in range(X_train.shape[1]):\n",
    "    print(\"%2d %-*s %f\"%(f+1,30,feat_labels[f],importance[indices[f]]))"
   ]
  },
  {
   "cell_type": "code",
   "execution_count": 21,
   "metadata": {
    "collapsed": false
   },
   "outputs": [
    {
     "data": {
      "image/png": "[encoded data removed]",
      "text/plain": [
       "<matplotlib.figure.Figure at 0xa1198940>"
      ]
     },
     "metadata": {},
     "output_type": "display_data"
    }
   ],
   "source": [
    "plt.title(\"feature importance\")\n",
    "plt.bar(range(X_train.shape[1]),importance[indices],color='lightblue',align='center')\n",
    "plt.xticks(range(X_train.shape[1]),feat_labels,rotation=90)\n",
    "plt.xlim([-1,X_train.shape[1]])\n",
    "plt.tight_layout()\n",
    "plt.show()"
   ]
  },
  {
   "cell_type": "code",
   "execution_count": null,
   "metadata": {
    "collapsed": true
   },
   "outputs": [],
   "source": []
  }
 ],
 "metadata": {
  "kernelspec": {
   "display_name": "Python 2",
   "language": "python",
   "name": "python2"
  },
  "language_info": {
   "codemirror_mode": {
    "name": "ipython",
    "version": 2
   },
   "file_extension": ".py",
   "mimetype": "text/x-python",
   "name": "python",
   "nbconvert_exporter": "python",
   "pygments_lexer": "ipython2",
   "version": "2.7.13"
  }
 },
 "nbformat": 4,
 "nbformat_minor": 2
}
