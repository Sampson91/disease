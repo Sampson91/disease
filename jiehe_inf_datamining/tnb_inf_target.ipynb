{
 "cells": [
  {
   "cell_type": "code",
   "execution_count": 101,
   "metadata": {
    "collapsed": true
   },
   "outputs": [],
   "source": [
    "from sklearn.model_selection import train_test_split\n",
    "from sklearn.tree import DecisionTreeClassifier\n",
    "from sklearn.metrics import classification_report\n",
    "import pandas as pd\n",
    "import numpy as np\n",
    "from sklearn.ensemble import RandomForestClassifier\n",
    "import matplotlib.pyplot as plt\n",
    "from sklearn.preprocessing import LabelEncoder"
   ]
  },
  {
   "cell_type": "code",
   "execution_count": 102,
   "metadata": {
    "collapsed": true
   },
   "outputs": [],
   "source": [
    "name=['vc_tnblx','vc_hzxb','area_type','addrcode','diagnosis_age','disease_id1','group_id','week','inf_day','inf_weeek','inf_month','target']\n",
    "tnb_jiehe_data = pd.read_csv(\"./tnb_jiehe.csv\",encoding='utf-8')"
   ]
  },
  {
   "cell_type": "code",
   "execution_count": 103,
   "metadata": {
    "collapsed": false
   },
   "outputs": [
    {
     "data": {
      "text/html": [
       "<div>\n",
       "<table border=\"1\" class=\"dataframe\">\n",
       "  <thead>\n",
       "    <tr style=\"text-align: right;\">\n",
       "      <th></th>\n",
       "      <th>Unnamed: 0</th>\n",
       "      <th>tnb_time</th>\n",
       "      <th>start_date</th>\n",
       "      <th>inf_diagnosedate</th>\n",
       "      <th>vc_tnblx</th>\n",
       "      <th>vc_hzxb</th>\n",
       "      <th>area_type</th>\n",
       "      <th>addrcode</th>\n",
       "      <th>diagnosis_age</th>\n",
       "      <th>disease_id1</th>\n",
       "      <th>week</th>\n",
       "      <th>group_id</th>\n",
       "      <th>inf_day</th>\n",
       "      <th>inf_weeek</th>\n",
       "      <th>inf_month</th>\n",
       "      <th>inf_time</th>\n",
       "      <th>target</th>\n",
       "    </tr>\n",
       "  </thead>\n",
       "  <tbody>\n",
       "    <tr>\n",
       "      <th>0</th>\n",
       "      <td>1</td>\n",
       "      <td>2012-08-05 00:00:00</td>\n",
       "      <td>2012-10-08 00:00:00</td>\n",
       "      <td>2012-10-08 11:00:00</td>\n",
       "      <td>2</td>\n",
       "      <td>1</td>\n",
       "      <td>1</td>\n",
       "      <td>33030268</td>\n",
       "      <td>60</td>\n",
       "      <td>130</td>\n",
       "      <td>10</td>\n",
       "      <td>29</td>\n",
       "      <td>1</td>\n",
       "      <td>1</td>\n",
       "      <td>1</td>\n",
       "      <td>39600</td>\n",
       "      <td>a</td>\n",
       "    </tr>\n",
       "    <tr>\n",
       "      <th>1</th>\n",
       "      <td>2</td>\n",
       "      <td>2009-09-15 00:00:00</td>\n",
       "      <td>2016-09-07 00:00:00</td>\n",
       "      <td>2016-09-19 15:00:00</td>\n",
       "      <td>2</td>\n",
       "      <td>2</td>\n",
       "      <td>1</td>\n",
       "      <td>33010941</td>\n",
       "      <td>21</td>\n",
       "      <td>131</td>\n",
       "      <td>365</td>\n",
       "      <td>18</td>\n",
       "      <td>13</td>\n",
       "      <td>2</td>\n",
       "      <td>1</td>\n",
       "      <td>1090800</td>\n",
       "      <td>d</td>\n",
       "    </tr>\n",
       "    <tr>\n",
       "      <th>2</th>\n",
       "      <td>3</td>\n",
       "      <td>2016-10-20 00:00:00</td>\n",
       "      <td>2016-10-23 00:00:00</td>\n",
       "      <td>2016-10-24 09:00:00</td>\n",
       "      <td>2</td>\n",
       "      <td>1</td>\n",
       "      <td>1</td>\n",
       "      <td>33010991</td>\n",
       "      <td>52</td>\n",
       "      <td>130</td>\n",
       "      <td>1</td>\n",
       "      <td>16</td>\n",
       "      <td>2</td>\n",
       "      <td>1</td>\n",
       "      <td>1</td>\n",
       "      <td>118800</td>\n",
       "      <td>a</td>\n",
       "    </tr>\n",
       "    <tr>\n",
       "      <th>3</th>\n",
       "      <td>4</td>\n",
       "      <td>2015-12-01 00:00:00</td>\n",
       "      <td>2016-01-26 00:00:00</td>\n",
       "      <td>2016-02-01 10:00:00</td>\n",
       "      <td>2</td>\n",
       "      <td>2</td>\n",
       "      <td>2</td>\n",
       "      <td>33052340</td>\n",
       "      <td>77</td>\n",
       "      <td>131</td>\n",
       "      <td>9</td>\n",
       "      <td>18</td>\n",
       "      <td>7</td>\n",
       "      <td>1</td>\n",
       "      <td>1</td>\n",
       "      <td>554400</td>\n",
       "      <td>a</td>\n",
       "    </tr>\n",
       "    <tr>\n",
       "      <th>4</th>\n",
       "      <td>5</td>\n",
       "      <td>2004-03-16 00:00:00</td>\n",
       "      <td>2014-03-17 00:00:00</td>\n",
       "      <td>2014-04-11 16:00:00</td>\n",
       "      <td>2</td>\n",
       "      <td>2</td>\n",
       "      <td>2</td>\n",
       "      <td>33038136</td>\n",
       "      <td>55</td>\n",
       "      <td>131</td>\n",
       "      <td>522</td>\n",
       "      <td>18</td>\n",
       "      <td>26</td>\n",
       "      <td>4</td>\n",
       "      <td>1</td>\n",
       "      <td>2217600</td>\n",
       "      <td>e</td>\n",
       "    </tr>\n",
       "  </tbody>\n",
       "</table>\n",
       "</div>"
      ],
      "text/plain": [
       "   Unnamed: 0             tnb_time           start_date     inf_diagnosedate  \\\n",
       "0           1  2012-08-05 00:00:00  2012-10-08 00:00:00  2012-10-08 11:00:00   \n",
       "1           2  2009-09-15 00:00:00  2016-09-07 00:00:00  2016-09-19 15:00:00   \n",
       "2           3  2016-10-20 00:00:00  2016-10-23 00:00:00  2016-10-24 09:00:00   \n",
       "3           4  2015-12-01 00:00:00  2016-01-26 00:00:00  2016-02-01 10:00:00   \n",
       "4           5  2004-03-16 00:00:00  2014-03-17 00:00:00  2014-04-11 16:00:00   \n",
       "\n",
       "   vc_tnblx  vc_hzxb  area_type  addrcode  diagnosis_age  disease_id1  week  \\\n",
       "0         2        1          1  33030268             60          130    10   \n",
       "1         2        2          1  33010941             21          131   365   \n",
       "2         2        1          1  33010991             52          130     1   \n",
       "3         2        2          2  33052340             77          131     9   \n",
       "4         2        2          2  33038136             55          131   522   \n",
       "\n",
       "   group_id  inf_day  inf_weeek  inf_month  inf_time target  \n",
       "0        29        1          1          1     39600      a  \n",
       "1        18       13          2          1   1090800      d  \n",
       "2        16        2          1          1    118800      a  \n",
       "3        18        7          1          1    554400      a  \n",
       "4        18       26          4          1   2217600      e  "
      ]
     },
     "execution_count": 103,
     "metadata": {},
     "output_type": "execute_result"
    }
   ],
   "source": [
    "tnb_jiehe_data.head()"
   ]
  },
  {
   "cell_type": "code",
   "execution_count": 104,
   "metadata": {
    "collapsed": false
   },
   "outputs": [
    {
     "name": "stderr",
     "output_type": "stream",
     "text": [
      "E:\\Users\\wang\\Anaconda2\\lib\\site-packages\\ipykernel\\__main__.py:2: SettingWithCopyWarning: \n",
      "A value is trying to be set on a copy of a slice from a DataFrame.\n",
      "Try using .loc[row_indexer,col_indexer] = value instead\n",
      "\n",
      "See the caveats in the documentation: http://pandas.pydata.org/pandas-docs/stable/indexing.html#indexing-view-versus-copy\n",
      "  from ipykernel import kernelapp as app\n",
      "E:\\Users\\wang\\Anaconda2\\lib\\site-packages\\ipykernel\\__main__.py:3: SettingWithCopyWarning: \n",
      "A value is trying to be set on a copy of a slice from a DataFrame.\n",
      "Try using .loc[row_indexer,col_indexer] = value instead\n",
      "\n",
      "See the caveats in the documentation: http://pandas.pydata.org/pandas-docs/stable/indexing.html#indexing-view-versus-copy\n",
      "  app.launch_new_instance()\n",
      "E:\\Users\\wang\\Anaconda2\\lib\\site-packages\\ipykernel\\__main__.py:4: SettingWithCopyWarning: \n",
      "A value is trying to be set on a copy of a slice from a DataFrame.\n",
      "Try using .loc[row_indexer,col_indexer] = value instead\n",
      "\n",
      "See the caveats in the documentation: http://pandas.pydata.org/pandas-docs/stable/indexing.html#indexing-view-versus-copy\n"
     ]
    },
    {
     "data": {
      "text/html": [
       "<div>\n",
       "<table border=\"1\" class=\"dataframe\">\n",
       "  <thead>\n",
       "    <tr style=\"text-align: right;\">\n",
       "      <th></th>\n",
       "      <th>vc_tnblx</th>\n",
       "      <th>vc_hzxb</th>\n",
       "      <th>area_type</th>\n",
       "      <th>addrcode</th>\n",
       "      <th>diagnosis_age</th>\n",
       "      <th>disease_id1</th>\n",
       "      <th>group_id</th>\n",
       "      <th>week</th>\n",
       "      <th>inf_day</th>\n",
       "      <th>inf_weeek</th>\n",
       "      <th>inf_month</th>\n",
       "      <th>target</th>\n",
       "    </tr>\n",
       "  </thead>\n",
       "  <tbody>\n",
       "    <tr>\n",
       "      <th>0</th>\n",
       "      <td>2</td>\n",
       "      <td>1</td>\n",
       "      <td>1</td>\n",
       "      <td>302</td>\n",
       "      <td>60</td>\n",
       "      <td>130</td>\n",
       "      <td>29</td>\n",
       "      <td>10</td>\n",
       "      <td>1</td>\n",
       "      <td>1</td>\n",
       "      <td>1</td>\n",
       "      <td>a</td>\n",
       "    </tr>\n",
       "  </tbody>\n",
       "</table>\n",
       "</div>"
      ],
      "text/plain": [
       "   vc_tnblx  vc_hzxb  area_type  addrcode  diagnosis_age  disease_id1  \\\n",
       "0         2        1          1       302             60          130   \n",
       "\n",
       "   group_id  week  inf_day  inf_weeek  inf_month target  \n",
       "0        29    10        1          1          1      a  "
      ]
     },
     "execution_count": 104,
     "metadata": {},
     "output_type": "execute_result"
    }
   ],
   "source": [
    "data = tnb_jiehe_data[name]\n",
    "data['addrcode']=data['addrcode']/100\n",
    "data['addrcode']=data['addrcode']%10000\n",
    "data['addrcode'] = data['addrcode'].astype(int)\n",
    "data = data[data['addrcode']<1199]  #删除外省人\n",
    "data.head(1)"
   ]
  },
  {
   "cell_type": "code",
   "execution_count": 105,
   "metadata": {
    "collapsed": false
   },
   "outputs": [
    {
     "data": {
      "text/plain": [
       "1.0"
      ]
     },
     "execution_count": 105,
     "metadata": {},
     "output_type": "execute_result"
    }
   ],
   "source": [
    "X_train,X_test,y_train,y_test = train_test_split(data[name[0:11]],data[name[11]],test_size=0.3,random_state=42)\n",
    "clf = DecisionTreeClassifier(max_depth=6,min_samples_split=6)\n",
    "clf.fit(X_train,y_train)\n",
    "clf.score(X_train,y_train)"
   ]
  },
  {
   "cell_type": "code",
   "execution_count": 106,
   "metadata": {
    "collapsed": false
   },
   "outputs": [
    {
     "data": {
      "text/plain": [
       "1.0"
      ]
     },
     "execution_count": 106,
     "metadata": {},
     "output_type": "execute_result"
    }
   ],
   "source": [
    "clf.score(X_test,y_test)"
   ]
  },
  {
   "cell_type": "code",
   "execution_count": 107,
   "metadata": {
    "collapsed": false
   },
   "outputs": [
    {
     "name": "stdout",
     "output_type": "stream",
     "text": [
      "             precision    recall  f1-score   support\n",
      "\n",
      "          a       1.00      1.00      1.00       689\n",
      "          b       1.00      1.00      1.00       629\n",
      "          c       1.00      1.00      1.00       495\n",
      "          d       1.00      1.00      1.00       496\n",
      "          e       1.00      1.00      1.00       238\n",
      "\n",
      "avg / total       1.00      1.00      1.00      2547\n",
      "\n"
     ]
    }
   ],
   "source": [
    "tr_predict = clf.predict(X_test)\n",
    "print(classification_report(y_test,tr_predict))"
   ]
  },
  {
   "cell_type": "code",
   "execution_count": 108,
   "metadata": {
    "collapsed": false
   },
   "outputs": [
    {
     "data": {
      "text/plain": [
       "Index([u'vc_tnblx', u'vc_hzxb', u'area_type', u'addrcode', u'diagnosis_age',\n",
       "       u'disease_id1', u'group_id', u'week', u'inf_day', u'inf_weeek',\n",
       "       u'inf_month'],\n",
       "      dtype='object')"
      ]
     },
     "execution_count": 108,
     "metadata": {},
     "output_type": "execute_result"
    }
   ],
   "source": [
    "data.columns[:-1]"
   ]
  },
  {
   "cell_type": "code",
   "execution_count": 109,
   "metadata": {
    "collapsed": false
   },
   "outputs": [
    {
     "data": {
      "text/plain": [
       "1.0"
      ]
     },
     "execution_count": 109,
     "metadata": {},
     "output_type": "execute_result"
    }
   ],
   "source": [
    "forest = RandomForestClassifier(n_estimators=3000,random_state=42,n_jobs=3)\n",
    "forest.fit(X_train,y_train)\n",
    "forest.score(X_train,y_train)"
   ]
  },
  {
   "cell_type": "code",
   "execution_count": 110,
   "metadata": {
    "collapsed": false
   },
   "outputs": [
    {
     "name": "stdout",
     "output_type": "stream",
     "text": [
      " 1 vc_tnblx                       0.857395\n",
      " 2 vc_hzxb                        0.039033\n",
      " 3 area_type                      0.030428\n",
      " 4 addrcode                       0.023200\n",
      " 5 diagnosis_age                  0.013718\n",
      " 6 disease_id1                    0.010588\n",
      " 7 group_id                       0.006617\n",
      " 8 week                           0.005493\n",
      " 9 inf_day                        0.005062\n",
      "10 inf_weeek                      0.004309\n",
      "11 inf_month                      0.004156\n"
     ]
    }
   ],
   "source": [
    "feat_labels = data.columns[:-1]\n",
    "importance = forest.feature_importances_\n",
    "indices = np.argsort(importance)[::-1]\n",
    "for f in range(X_train.shape[1]):\n",
    "    print(\"%2d %-*s %f\"%(f+1,30,feat_labels[f],importance[indices[f]]))"
   ]
  },
  {
   "cell_type": "code",
   "execution_count": 111,
   "metadata": {
    "collapsed": false
   },
   "outputs": [
    {
     "data": {
      "image/png": "[encoded data removed]",
      "text/plain": [
       "<matplotlib.figure.Figure at 0x21bbcc88>"
      ]
     },
     "metadata": {},
     "output_type": "display_data"
    }
   ],
   "source": [
    "plt.title(\"feature importance\")\n",
    "plt.bar(range(X_train.shape[1]),importance[indices],color='lightblue',align='center')\n",
    "plt.xticks(range(X_train.shape[1]),feat_labels,rotation=90)\n",
    "plt.xlim([-1,X_train.shape[1]])\n",
    "plt.tight_layout()\n",
    "plt.show()"
   ]
  },
  {
   "cell_type": "code",
   "execution_count": null,
   "metadata": {
    "collapsed": true
   },
   "outputs": [],
   "source": []
  }
 ],
 "metadata": {
  "kernelspec": {
   "display_name": "Python 2",
   "language": "python",
   "name": "python2"
  },
  "language_info": {
   "codemirror_mode": {
    "name": "ipython",
    "version": 2
   },
   "file_extension": ".py",
   "mimetype": "text/x-python",
   "name": "python",
   "nbconvert_exporter": "python",
   "pygments_lexer": "ipython2",
   "version": "2.7.13"
  }
 },
 "nbformat": 4,
 "nbformat_minor": 0
}
