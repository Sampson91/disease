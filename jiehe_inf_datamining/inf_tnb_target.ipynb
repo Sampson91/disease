{
 "cells": [
  {
   "cell_type": "code",
   "execution_count": 1,
   "metadata": {
    "collapsed": true
   },
   "outputs": [],
   "source": [
    "from sklearn.model_selection import train_test_split\n",
    "from sklearn.tree import DecisionTreeClassifier\n",
    "from sklearn.metrics import classification_report\n",
    "import pandas as pd\n",
    "import numpy as np\n",
    "from sklearn.ensemble import RandomForestClassifier\n",
    "import matplotlib.pyplot as plt\n",
    "from sklearn.preprocessing import LabelEncoder"
   ]
  },
  {
   "cell_type": "code",
   "execution_count": 2,
   "metadata": {
    "collapsed": true
   },
   "outputs": [],
   "source": [
    "name=['vc_tnblx','vc_hzxb','area_type','addrcode','diagnosis_age','disease_id1','group_id','week','inf_day','inf_weeek','inf_month','target']\n",
    "tnb_jiehe_data = pd.read_csv(\"./jiehe_tnb.csv\",encoding='utf-8')"
   ]
  },
  {
   "cell_type": "code",
   "execution_count": 3,
   "metadata": {
    "collapsed": false
   },
   "outputs": [
    {
     "data": {
      "text/html": [
       "<div>\n",
       "<table border=\"1\" class=\"dataframe\">\n",
       "  <thead>\n",
       "    <tr style=\"text-align: right;\">\n",
       "      <th></th>\n",
       "      <th>Unnamed: 0</th>\n",
       "      <th>vc_tnblx</th>\n",
       "      <th>vc_hzxb</th>\n",
       "      <th>area_type</th>\n",
       "      <th>addrcode</th>\n",
       "      <th>diagnosis_age</th>\n",
       "      <th>disease_id1</th>\n",
       "      <th>week</th>\n",
       "      <th>group_id</th>\n",
       "      <th>inf_day</th>\n",
       "      <th>inf_weeek</th>\n",
       "      <th>inf_month</th>\n",
       "      <th>inf_time</th>\n",
       "      <th>target</th>\n",
       "    </tr>\n",
       "  </thead>\n",
       "  <tbody>\n",
       "    <tr>\n",
       "      <th>0</th>\n",
       "      <td>1</td>\n",
       "      <td>3</td>\n",
       "      <td>2</td>\n",
       "      <td>1</td>\n",
       "      <td>33010944</td>\n",
       "      <td>34</td>\n",
       "      <td>131</td>\n",
       "      <td>124</td>\n",
       "      <td>16</td>\n",
       "      <td>16</td>\n",
       "      <td>3</td>\n",
       "      <td>1</td>\n",
       "      <td>1346400</td>\n",
       "      <td>b</td>\n",
       "    </tr>\n",
       "    <tr>\n",
       "      <th>1</th>\n",
       "      <td>2</td>\n",
       "      <td>2</td>\n",
       "      <td>1</td>\n",
       "      <td>2</td>\n",
       "      <td>33038175</td>\n",
       "      <td>67</td>\n",
       "      <td>131</td>\n",
       "      <td>74</td>\n",
       "      <td>23</td>\n",
       "      <td>24</td>\n",
       "      <td>4</td>\n",
       "      <td>1</td>\n",
       "      <td>2026800</td>\n",
       "      <td>b</td>\n",
       "    </tr>\n",
       "    <tr>\n",
       "      <th>2</th>\n",
       "      <td>3</td>\n",
       "      <td>4</td>\n",
       "      <td>1</td>\n",
       "      <td>1</td>\n",
       "      <td>33030402</td>\n",
       "      <td>64</td>\n",
       "      <td>130</td>\n",
       "      <td>227</td>\n",
       "      <td>16</td>\n",
       "      <td>241</td>\n",
       "      <td>35</td>\n",
       "      <td>9</td>\n",
       "      <td>20736000</td>\n",
       "      <td>c</td>\n",
       "    </tr>\n",
       "    <tr>\n",
       "      <th>3</th>\n",
       "      <td>4</td>\n",
       "      <td>2</td>\n",
       "      <td>1</td>\n",
       "      <td>2</td>\n",
       "      <td>33038110</td>\n",
       "      <td>42</td>\n",
       "      <td>130</td>\n",
       "      <td>3</td>\n",
       "      <td>16</td>\n",
       "      <td>32</td>\n",
       "      <td>5</td>\n",
       "      <td>2</td>\n",
       "      <td>2736000</td>\n",
       "      <td>a</td>\n",
       "    </tr>\n",
       "    <tr>\n",
       "      <th>4</th>\n",
       "      <td>5</td>\n",
       "      <td>3</td>\n",
       "      <td>2</td>\n",
       "      <td>1</td>\n",
       "      <td>33010503</td>\n",
       "      <td>26</td>\n",
       "      <td>131</td>\n",
       "      <td>104</td>\n",
       "      <td>8</td>\n",
       "      <td>43</td>\n",
       "      <td>7</td>\n",
       "      <td>2</td>\n",
       "      <td>3686400</td>\n",
       "      <td>b</td>\n",
       "    </tr>\n",
       "  </tbody>\n",
       "</table>\n",
       "</div>"
      ],
      "text/plain": [
       "   Unnamed: 0  vc_tnblx  vc_hzxb  area_type  addrcode  diagnosis_age  \\\n",
       "0           1         3        2          1  33010944             34   \n",
       "1           2         2        1          2  33038175             67   \n",
       "2           3         4        1          1  33030402             64   \n",
       "3           4         2        1          2  33038110             42   \n",
       "4           5         3        2          1  33010503             26   \n",
       "\n",
       "   disease_id1  week  group_id  inf_day  inf_weeek  inf_month  inf_time target  \n",
       "0          131   124        16       16          3          1   1346400      b  \n",
       "1          131    74        23       24          4          1   2026800      b  \n",
       "2          130   227        16      241         35          9  20736000      c  \n",
       "3          130     3        16       32          5          2   2736000      a  \n",
       "4          131   104         8       43          7          2   3686400      b  "
      ]
     },
     "execution_count": 3,
     "metadata": {},
     "output_type": "execute_result"
    }
   ],
   "source": [
    "tnb_jiehe_data.head()"
   ]
  },
  {
   "cell_type": "code",
   "execution_count": 4,
   "metadata": {
    "collapsed": false
   },
   "outputs": [
    {
     "name": "stderr",
     "output_type": "stream",
     "text": [
      "E:\\Users\\wang\\Anaconda2\\lib\\site-packages\\ipykernel\\__main__.py:2: SettingWithCopyWarning: \n",
      "A value is trying to be set on a copy of a slice from a DataFrame.\n",
      "Try using .loc[row_indexer,col_indexer] = value instead\n",
      "\n",
      "See the caveats in the documentation: http://pandas.pydata.org/pandas-docs/stable/indexing.html#indexing-view-versus-copy\n",
      "  from ipykernel import kernelapp as app\n",
      "E:\\Users\\wang\\Anaconda2\\lib\\site-packages\\ipykernel\\__main__.py:3: SettingWithCopyWarning: \n",
      "A value is trying to be set on a copy of a slice from a DataFrame.\n",
      "Try using .loc[row_indexer,col_indexer] = value instead\n",
      "\n",
      "See the caveats in the documentation: http://pandas.pydata.org/pandas-docs/stable/indexing.html#indexing-view-versus-copy\n",
      "  app.launch_new_instance()\n",
      "E:\\Users\\wang\\Anaconda2\\lib\\site-packages\\ipykernel\\__main__.py:4: SettingWithCopyWarning: \n",
      "A value is trying to be set on a copy of a slice from a DataFrame.\n",
      "Try using .loc[row_indexer,col_indexer] = value instead\n",
      "\n",
      "See the caveats in the documentation: http://pandas.pydata.org/pandas-docs/stable/indexing.html#indexing-view-versus-copy\n"
     ]
    },
    {
     "data": {
      "text/html": [
       "<div>\n",
       "<table border=\"1\" class=\"dataframe\">\n",
       "  <thead>\n",
       "    <tr style=\"text-align: right;\">\n",
       "      <th></th>\n",
       "      <th>vc_tnblx</th>\n",
       "      <th>vc_hzxb</th>\n",
       "      <th>area_type</th>\n",
       "      <th>addrcode</th>\n",
       "      <th>diagnosis_age</th>\n",
       "      <th>disease_id1</th>\n",
       "      <th>group_id</th>\n",
       "      <th>week</th>\n",
       "      <th>inf_day</th>\n",
       "      <th>inf_weeek</th>\n",
       "      <th>inf_month</th>\n",
       "      <th>target</th>\n",
       "    </tr>\n",
       "  </thead>\n",
       "  <tbody>\n",
       "    <tr>\n",
       "      <th>0</th>\n",
       "      <td>3</td>\n",
       "      <td>2</td>\n",
       "      <td>1</td>\n",
       "      <td>109</td>\n",
       "      <td>34</td>\n",
       "      <td>131</td>\n",
       "      <td>16</td>\n",
       "      <td>124</td>\n",
       "      <td>16</td>\n",
       "      <td>3</td>\n",
       "      <td>1</td>\n",
       "      <td>b</td>\n",
       "    </tr>\n",
       "  </tbody>\n",
       "</table>\n",
       "</div>"
      ],
      "text/plain": [
       "   vc_tnblx  vc_hzxb  area_type  addrcode  diagnosis_age  disease_id1  \\\n",
       "0         3        2          1       109             34          131   \n",
       "\n",
       "   group_id  week  inf_day  inf_weeek  inf_month target  \n",
       "0        16   124       16          3          1      b  "
      ]
     },
     "execution_count": 4,
     "metadata": {},
     "output_type": "execute_result"
    }
   ],
   "source": [
    "data = tnb_jiehe_data[name]\n",
    "data['addrcode']=data['addrcode']/100\n",
    "data['addrcode']=data['addrcode']%10000\n",
    "data['addrcode'] = data['addrcode'].astype(int)\n",
    "data = data[data['addrcode']<1199]  #删除外省人"
   ]
  },
  {
   "cell_type": "code",
   "execution_count": 7,
   "metadata": {
    "collapsed": false
   },
   "outputs": [
    {
     "data": {
      "text/plain": [
       "1.0"
      ]
     },
     "execution_count": 7,
     "metadata": {},
     "output_type": "execute_result"
    }
   ],
   "source": [
    "X_train,X_test,y_train,y_test = train_test_split(data[name[0:11]],data[name[11]],test_size=0.3,random_state=42)\n",
    "clf = DecisionTreeClassifier(max_depth=6,min_samples_split=6)\n",
    "clf.fit(X_train,y_train)\n",
    "clf.score(X_train,y_train)"
   ]
  },
  {
   "cell_type": "code",
   "execution_count": 8,
   "metadata": {
    "collapsed": false
   },
   "outputs": [
    {
     "data": {
      "text/plain": [
       "1.0"
      ]
     },
     "execution_count": 8,
     "metadata": {},
     "output_type": "execute_result"
    }
   ],
   "source": [
    "clf.score(X_test,y_test)"
   ]
  },
  {
   "cell_type": "code",
   "execution_count": 9,
   "metadata": {
    "collapsed": false
   },
   "outputs": [
    {
     "name": "stdout",
     "output_type": "stream",
     "text": [
      "             precision    recall  f1-score   support\n",
      "\n",
      "          a       1.00      1.00      1.00      1038\n",
      "          b       1.00      1.00      1.00       278\n",
      "          c       1.00      1.00      1.00       144\n",
      "          d       1.00      1.00      1.00        65\n",
      "          e       1.00      1.00      1.00         5\n",
      "\n",
      "avg / total       1.00      1.00      1.00      1530\n",
      "\n"
     ]
    }
   ],
   "source": [
    "tr_predict = clf.predict(X_test)\n",
    "print(classification_report(y_test,tr_predict))"
   ]
  },
  {
   "cell_type": "code",
   "execution_count": 11,
   "metadata": {
    "collapsed": false
   },
   "outputs": [
    {
     "data": {
      "text/plain": [
       "1.0"
      ]
     },
     "execution_count": 11,
     "metadata": {},
     "output_type": "execute_result"
    }
   ],
   "source": [
    "forest = RandomForestClassifier(n_estimators=3000,random_state=42,n_jobs=3)\n",
    "forest.fit(X_train,y_train)\n",
    "forest.score(X_train,y_train)"
   ]
  },
  {
   "cell_type": "code",
   "execution_count": 12,
   "metadata": {
    "collapsed": false
   },
   "outputs": [
    {
     "data": {
      "text/plain": [
       "0.99542483660130721"
      ]
     },
     "execution_count": 12,
     "metadata": {},
     "output_type": "execute_result"
    }
   ],
   "source": [
    "forest.score(X_test,y_test)"
   ]
  },
  {
   "cell_type": "code",
   "execution_count": 13,
   "metadata": {
    "collapsed": false
   },
   "outputs": [
    {
     "name": "stdout",
     "output_type": "stream",
     "text": [
      "             precision    recall  f1-score   support\n",
      "\n",
      "          a       1.00      1.00      1.00      1038\n",
      "          b       1.00      1.00      1.00       278\n",
      "          c       1.00      1.00      1.00       144\n",
      "          d       1.00      1.00      1.00        65\n",
      "          e       1.00      1.00      1.00         5\n",
      "\n",
      "avg / total       1.00      1.00      1.00      1530\n",
      "\n"
     ]
    }
   ],
   "source": [
    "tr_predict = clf.predict(X_test)\n",
    "print(classification_report(y_test,tr_predict))"
   ]
  },
  {
   "cell_type": "code",
   "execution_count": 14,
   "metadata": {
    "collapsed": false
   },
   "outputs": [
    {
     "name": "stdout",
     "output_type": "stream",
     "text": [
      " 1 vc_tnblx                       0.872501\n",
      " 2 vc_hzxb                        0.024689\n",
      " 3 area_type                      0.024073\n",
      " 4 addrcode                       0.022424\n",
      " 5 diagnosis_age                  0.016198\n",
      " 6 disease_id1                    0.012277\n",
      " 7 group_id                       0.009925\n",
      " 8 week                           0.005583\n",
      " 9 inf_day                        0.004811\n",
      "10 inf_weeek                      0.004152\n",
      "11 inf_month                      0.003367\n"
     ]
    }
   ],
   "source": [
    "feat_labels = data.columns[:-1]\n",
    "importance = forest.feature_importances_\n",
    "indices = np.argsort(importance)[::-1]\n",
    "for f in range(X_train.shape[1]):\n",
    "    print(\"%2d %-*s %f\"%(f+1,30,feat_labels[f],importance[indices[f]]))"
   ]
  },
  {
   "cell_type": "code",
   "execution_count": 15,
   "metadata": {
    "collapsed": false
   },
   "outputs": [
    {
     "data": {
      "image/png": "[encoded data removed]",
      "text/plain": [
       "<matplotlib.figure.Figure at 0x28efa588>"
      ]
     },
     "metadata": {},
     "output_type": "display_data"
    }
   ],
   "source": [
    "plt.title(\"feature importance\")\n",
    "plt.bar(range(X_train.shape[1]),importance[indices],color='lightblue',align='center')\n",
    "plt.xticks(range(X_train.shape[1]),feat_labels,rotation=90)\n",
    "plt.xlim([-1,X_train.shape[1]])\n",
    "plt.tight_layout()\n",
    "plt.show()"
   ]
  },
  {
   "cell_type": "code",
   "execution_count": null,
   "metadata": {
    "collapsed": true
   },
   "outputs": [],
   "source": []
  }
 ],
 "metadata": {
  "kernelspec": {
   "display_name": "Python 2",
   "language": "python",
   "name": "python2"
  },
  "language_info": {
   "codemirror_mode": {
    "name": "ipython",
    "version": 2
   },
   "file_extension": ".py",
   "mimetype": "text/x-python",
   "name": "python",
   "nbconvert_exporter": "python",
   "pygments_lexer": "ipython2",
   "version": "2.7.13"
  }
 },
 "nbformat": 4,
 "nbformat_minor": 2
}
